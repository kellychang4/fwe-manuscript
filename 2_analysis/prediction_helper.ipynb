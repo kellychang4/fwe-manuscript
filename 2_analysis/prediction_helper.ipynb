{
 "cells": [
  {
   "cell_type": "code",
   "execution_count": null,
   "metadata": {},
   "outputs": [],
   "source": [
    "import os\n",
    "import re\n",
    "import glob\n",
    "import itertools\n",
    "import numpy as np\n",
    "import os.path as op"
   ]
  },
  {
   "cell_type": "code",
   "execution_count": null,
   "metadata": {},
   "outputs": [],
   "source": [
    "paths_data = op.join(\"/path\", \"to\", \"data\")\n",
    "paths_save = op.join(\"paths\", \"to\", \"figure11\")\n",
    "os.makedirs(paths_save, exist_ok = True)"
   ]
  },
  {
   "cell_type": "code",
   "execution_count": null,
   "metadata": {},
   "outputs": [],
   "source": [
    "fname_list = glob.glob(op.join(paths_data, \"**\", \"**\", \"*.npy\"))\n",
    "n_labels   = np.load(fname_list[0]).shape[0] # number of labels\n",
    "\n",
    "dataset_list = set([re.sub(\".+((multi|single)-shell).+\", \"\\\\1\", x) for x in fname_list])\n",
    "method_list  = set([re.sub(\".+_method-(\\w+)_.+\", \"\\\\1\", x) for x in fname_list])\n",
    "repeat_list  = set([re.sub(\".+_repeat-(\\d+)_.+\", \"\\\\1\", x) for x in fname_list])\n",
    "suffix_list  = [\"ytrue\", \"ypred\", \"yprob\"] \n",
    "\n",
    "conds = itertools.product(dataset_list, method_list, suffix_list)\n",
    "for dataset, method, suffix in conds: # for each dataset and method\n",
    "  # filter the file names by dataset and method\n",
    "  cond_list = [x for x in fname_list if dataset in x and method in x]\n",
    "  \n",
    "  # load the current values\n",
    "  save_name   = f\"figure11_{dataset}_method-{method}_{suffix}.npy\"\n",
    "  curr_list   = [x for x in cond_list if suffix in x]\n",
    "  \n",
    "  # initialize the current matrix\n",
    "  if suffix == \"yprob\": # if the suffix is yprob, add dimension\n",
    "    curr_matrix = np.ones((n_labels, 5, len(repeat_list))) * np.nan\n",
    "  else: # else, (n_labels, n_repeats)\n",
    "    curr_matrix = np.ones((n_labels, len(repeat_list))) * np.nan\n",
    "    \n",
    "  # fill the current matrix with values\n",
    "  for fname in curr_list: # for each file name\n",
    "    repeat = int(re.sub(\".+_repeat-(\\d+)_.+\", \"\\\\1\", fname)) - 1 # 0-based\n",
    "    curr_matrix[..., repeat] = np.load(fname)\n",
    "  \n",
    "  # save the current values\n",
    "  np.save(op.join(paths_save, save_name), curr_matrix)\n",
    "  print(f\"Saved: {save_name}\")"
   ]
  }
 ],
 "metadata": {
  "kernelspec": {
   "display_name": "act",
   "language": "python",
   "name": "python3"
  },
  "language_info": {
   "codemirror_mode": {
    "name": "ipython",
    "version": 3
   },
   "file_extension": ".py",
   "mimetype": "text/x-python",
   "name": "python",
   "nbconvert_exporter": "python",
   "pygments_lexer": "ipython3",
   "version": "3.10.16"
  }
 },
 "nbformat": 4,
 "nbformat_minor": 2
}
