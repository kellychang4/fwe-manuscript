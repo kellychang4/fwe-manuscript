{
 "cells": [
  {
   "cell_type": "code",
   "execution_count": null,
   "metadata": {},
   "outputs": [],
   "source": [
    "import os\n",
    "import matplotlib\n",
    "import numpy as np\n",
    "import pandas as pd\n",
    "import os.path as op\n",
    "import matplotlib.pyplot as plt"
   ]
  },
  {
   "cell_type": "code",
   "execution_count": null,
   "metadata": {},
   "outputs": [],
   "source": [
    "plt.rcParams.update({\n",
    "  \"text.usetex\": False,\n",
    "  \"font.family\": \"Helvetica\",\n",
    "  \"font.size\": 14\n",
    "})\n",
    "\n",
    "def plot_ribbon(ax, x, y, s, color, alpha = 0.25, label = None):\n",
    "  ax.fill_between(x, y - s, y + s, color = color,\n",
    "                  edgecolor = None, alpha = alpha)\n",
    "  ax.plot(x, y, color = color, label = label)"
   ]
  },
  {
   "cell_type": "code",
   "execution_count": null,
   "metadata": {},
   "outputs": [],
   "source": [
    "paths_data = op.join(\"/path\", \"to\", \"data\")\n",
    "paths_save = op.join(\"paths\", \"to\", \"figure10\")\n",
    "os.makedirs(paths_save, exist_ok = True)"
   ]
  },
  {
   "cell_type": "code",
   "execution_count": null,
   "metadata": {},
   "outputs": [],
   "source": [
    "df_scores = pd.read_csv(op.join(paths_data, \"fazekas_scores.csv\"))\n",
    "df_scores = df_scores[[\"participant\", \"total\"]].rename(columns = {\"total\": \"fazekas\"})\n",
    "df_scores.head()"
   ]
  },
  {
   "cell_type": "code",
   "execution_count": null,
   "metadata": {},
   "outputs": [],
   "source": [
    "df_profiles = pd.read_csv(op.join(paths_data, \"profiles.csv\"))\n",
    "df_profiles = df_profiles[df_profiles[\"dataset\"].isin([\"multi-shell\", \"single-shell\"])]\n",
    "df_profiles = df_profiles[df_profiles[\"method\"].isin([\"afq-original\", \"afq-fwe\", \"afq-msmt\"])]\n",
    "df_profiles = df_profiles[df_profiles[\"metric\"].str.match(\"^(DTI|DKI)-\")]\n",
    "df_profiles = df_profiles.merge(df_scores, on = \"participant\")\n",
    "df_profiles = df_profiles[df_profiles[\"fazekas\"] > 1] # bc only two participants \n",
    "df_profiles.head()"
   ]
  },
  {
   "cell_type": "code",
   "execution_count": null,
   "metadata": {},
   "outputs": [],
   "source": [
    "df_wmh = pd.read_csv(op.join(paths_data, \"wmh_profiles.csv\"))\n",
    "df_wmh = df_wmh[df_wmh[\"dataset\"].isin([\"multi-shell\", \"single-shell\"])]\n",
    "df_wmh = df_wmh[df_wmh[\"method\"].isin([\"afq-original\", \"afq-fwe\", \"afq-msmt\"])]\n",
    "df_wmh = df_wmh[df_wmh[\"metric\"] == \"WMH Mask\"]\n",
    "df_wmh[\"value\"] = (df_wmh[\"value\"] > 0.1).astype(float) # binarize by percentage\n",
    "df_wmh = df_wmh.groupby([\"dataset\", \"method\", \"tract\", \"node\"])[\"value\"].mean().reset_index()\n",
    "df_wmh.head()"
   ]
  },
  {
   "cell_type": "code",
   "execution_count": null,
   "metadata": {},
   "outputs": [],
   "source": [
    "# define colormap for WMH overlap background gradient\n",
    "gradient_range = [0, 1] # [min max]\n",
    "gradient_edges = np.linspace(np.min(gradient_range), np.max(gradient_range), 255) \n",
    "\n",
    "gradient_cmap = matplotlib.colormaps[\"gray_r\"]\n",
    "gradient_cmap = gradient_cmap(np.linspace(0, 1, num = 255))[..., :3]\n",
    "\n",
    "# define colormap for fazekas score\n",
    "fazekas_cmap = matplotlib.colormaps[\"Spectral\"]\n",
    "fazekas_cmap = fazekas_cmap(np.linspace(0, 1, num = 20))\n",
    "fazekas_cmap = { \n",
    "  2: fazekas_cmap[0], 3: fazekas_cmap[5], 4: fazekas_cmap[10], \n",
    "  5: fazekas_cmap[15], 6: fazekas_cmap[19]\n",
    "}\n",
    "\n",
    "# define grouping variables and ploting variables\n",
    "group_vars      = [\"dataset\", \"method\", \"metric\", \"tract\"]\n",
    "fazekas_list    = [2, 3, 4, 5, 6] # one person with fazekas score of 1\n",
    "gradient_extent = [df_wmh[\"node\"].min(), df_wmh[\"node\"].max(), \n",
    "                   np.min(gradient_range), np.max(gradient_range)]\n",
    "\n",
    "for (dataset, method, metric, tract), df_group in df_profiles.groupby(group_vars): \n",
    "  # extract background gradient of wmh overlap\n",
    "  df_gradient = df_wmh[df_wmh[\"dataset\"] == dataset]\n",
    "  df_gradient = df_gradient[df_gradient[\"method\"] == method]\n",
    "  df_gradient = df_gradient[df_gradient[\"tract\"] == tract]\n",
    "\n",
    "  # prepare background gradient image\n",
    "  y = df_gradient[\"value\"].values; Y = np.tile(y, (200, 1)) \n",
    "  gradient_indices = np.digitize(Y, gradient_edges) - 1 # 0-based index\n",
    "  gradient_image = gradient_cmap[gradient_indices,:] \n",
    "  gradient_image = (gradient_image * 255).astype(np.uint8)\n",
    "\n",
    "  # define figure aesthetics variables\n",
    "  match metric:\n",
    "    case \"DKI-AWF\": ylim = (0.05, 0.65); dy = 0.10; yticks = np.arange(ylim[0] + (dy/2), ylim[1], dy)\n",
    "    case \"DKI-FA\":  ylim = (0.05, 0.75); dy = 0.10; yticks = np.arange(ylim[0] + (dy/2), ylim[1], dy)\n",
    "    case \"DKI-MD\":  ylim = (0.00, 3e-3); dy = 6e-4; yticks = np.arange(ylim[0], ylim[1] + dy, dy)\n",
    "    case \"DKI-MK\":  ylim = (0.55, 1.35); dy = 0.10; yticks = np.arange(ylim[0] + (dy/2), ylim[1], dy)\n",
    "    case \"DTI-FA\":  ylim = (0.05, 0.75); dy = 0.10; yticks = np.arange(ylim[0] + (dy/2), ylim[1], dy)\n",
    "    case \"DKI-MD\":  ylim = (0.00, 3e-3); dy = 6e-4; yticks = np.arange(ylim[0], ylim[1] + dy, dy)\n",
    "\n",
    "  # figure plotting\n",
    "  fig, ax = plt.subplots(1, 1, figsize = (7, 5), tight_layout = True)\n",
    "  ax.imshow(gradient_image, aspect = \"auto\", origin = \"lower\", extent = gradient_extent)\n",
    "  for fazekas in fazekas_list: # for each method and fazekas\n",
    "    df_plot = df_group[df_group[\"fazekas\"] == fazekas]\n",
    "    df_plot = (df_plot.groupby([\"tract\", \"node\"])[\"value\"]\n",
    "                      .aggregate(\n",
    "                        mean = \"mean\", \n",
    "                        sem = lambda x: np.std(x) / np.sqrt(np.sum(~np.isnan(x)))\n",
    "                      ).reset_index())\n",
    "    x = df_plot[\"node\"].values; y = df_plot[\"mean\"].values; s = df_plot[\"sem\"].values\n",
    "\n",
    "    # plot fazekas score ribbon plot\n",
    "    plot_ribbon(ax, x, y, s, fazekas_cmap[fazekas], label = f\"Faz. {fazekas}\")\n",
    "  ax.set_xlim([-4.95, 103.95]); ax.set_ylim(ylim); ax.set_yticks(yticks)\n",
    "  ax.set_xticks([]); ax.set_ylabel(metric)\n",
    "  ax.set_title(f\"{tract} ({method})\")\n",
    "  ax.legend()\n",
    "  \n",
    "  paths_out = op.join(paths_save, dataset, method, metric)\n",
    "  os.makedirs(paths_out, exist_ok = True)\n",
    "  \n",
    "  fig.savefig(op.join(paths_out, f\"figure10_{dataset}_{method}_{metric}_{tract}.svg\"))\n",
    "  plt.show(); plt.close()"
   ]
  }
 ],
 "metadata": {
  "kernelspec": {
   "display_name": "act",
   "language": "python",
   "name": "python3"
  },
  "language_info": {
   "codemirror_mode": {
    "name": "ipython",
    "version": 3
   },
   "file_extension": ".py",
   "mimetype": "text/x-python",
   "name": "python",
   "nbconvert_exporter": "python",
   "pygments_lexer": "ipython3",
   "version": "3.10.16"
  }
 },
 "nbformat": 4,
 "nbformat_minor": 2
}
