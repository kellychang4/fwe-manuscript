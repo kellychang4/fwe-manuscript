{
 "cells": [
  {
   "cell_type": "code",
   "execution_count": null,
   "metadata": {},
   "outputs": [],
   "source": [
    "import os\n",
    "import matplotlib\n",
    "import numpy as np\n",
    "import pandas as pd\n",
    "import os.path as op\n",
    "import seaborn as sns\n",
    "import matplotlib.pyplot as plt"
   ]
  },
  {
   "cell_type": "code",
   "execution_count": null,
   "metadata": {},
   "outputs": [],
   "source": [
    "plt.rcParams.update({\n",
    "  \"text.usetex\": False,\n",
    "  \"font.family\": \"Helvetica\",\n",
    "  \"font.size\": 14\n",
    "})"
   ]
  },
  {
   "cell_type": "code",
   "execution_count": null,
   "metadata": {},
   "outputs": [],
   "source": [
    "paths_data = op.join(\"/path\", \"to\", \"data\")\n",
    "paths_save = op.join(\"paths\", \"to\", \"figure02\")\n",
    "os.makedirs(paths_save, exist_ok = True)"
   ]
  },
  {
   "cell_type": "code",
   "execution_count": null,
   "metadata": {},
   "outputs": [],
   "source": [
    "df = pd.read_csv(op.join(paths_data, \"odf_corr2.csv\"))\n",
    "df = df[df[\"dataset\"].isin([\"multi-shell\", \"single-shell\"])]\n",
    "df.head()"
   ]
  },
  {
   "cell_type": "code",
   "execution_count": null,
   "metadata": {},
   "outputs": [],
   "source": [
    "cmap = matplotlib.colormaps[\"tab10\"]\n",
    "cmap = cmap(np.linspace(0, 1, 10))\n",
    "\n",
    "xlim = (-75, 225)\n",
    "tissue_colors = [cmap[7], cmap[3]] # [nawm, wmh]\n",
    "\n",
    "for (dataset, method), df_group in df.groupby([\"dataset\", \"method\"]):\n",
    "  df_group = pd.melt(df_group, id_vars = \"participant\", \n",
    "                     value_vars = [\"nawm\", \"wmh\"], var_name = \"Tissue\")\n",
    "  df_group = df_group.dropna() # remove NaNs\n",
    "  df_group[\"Tissue\"] = df_group[\"Tissue\"].str.upper()\n",
    "\n",
    "  fig, ax = plt.subplots(1, 1, figsize = (7, 5), tight_layout = True)\n",
    "  sns.histplot(data = df_group, x = \"value\", hue = \"Tissue\", \n",
    "                binwidth = 5, binrange = xlim, palette = tissue_colors, \n",
    "                ax = ax)\n",
    "  ax.axvline(x = 0, color = \"blue\", linestyle = \"--\")\n",
    "  ax.set_title(f\"{dataset.capitalize()} ({method})\")\n",
    "  ax.set_xlabel(\"Mean Percent Difference in $r^2$\")\n",
    "  ax.set_ylabel(\"Frequency\")\n",
    "  ax.set_xlim(xlim)\n",
    "  ax.set_ylim(0, 369)\n",
    "  plt.show()\n",
    "\n",
    "  fig.savefig(op.join(paths_save, f\"figure02_{dataset}_{method}.svg\"))"
   ]
  }
 ],
 "metadata": {
  "kernelspec": {
   "display_name": "act",
   "language": "python",
   "name": "python3"
  },
  "language_info": {
   "codemirror_mode": {
    "name": "ipython",
    "version": 3
   },
   "file_extension": ".py",
   "mimetype": "text/x-python",
   "name": "python",
   "nbconvert_exporter": "python",
   "pygments_lexer": "ipython3",
   "version": "3.10.16"
  }
 },
 "nbformat": 4,
 "nbformat_minor": 2
}
