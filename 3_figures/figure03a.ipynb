{
 "cells": [
  {
   "cell_type": "code",
   "execution_count": null,
   "metadata": {},
   "outputs": [],
   "source": [
    "import os\n",
    "import ants\n",
    "import numpy as np\n",
    "import os.path as op\n",
    "import matplotlib.pyplot as plt\n",
    "from matplotlib.patches import Rectangle\n",
    "from skimage.measure import find_contours"
   ]
  },
  {
   "cell_type": "code",
   "execution_count": null,
   "metadata": {},
   "outputs": [],
   "source": [
    "plt.rcParams.update({\n",
    "  \"text.usetex\": False,\n",
    "  \"font.family\": \"Helvetica\",\n",
    "  \"font.size\": 14\n",
    "})"
   ]
  },
  {
   "cell_type": "code",
   "execution_count": null,
   "metadata": {},
   "outputs": [],
   "source": [
    "participant = \"sub-XXX\" \n",
    "\n",
    "paths_data = op.join(\"/path\", \"to\", \"data\")\n",
    "paths_save = op.join(\"paths\", \"to\", \"figure03\")\n",
    "os.makedirs(paths_save, exist_ok = True)"
   ]
  },
  {
   "cell_type": "code",
   "execution_count": null,
   "metadata": {},
   "outputs": [],
   "source": [
    "mask_fname  = op.join(paths_data, f\"{participant}_space-ACPC_desc-brain_mask.nii.gz\")\n",
    "flair_fname = op.join(paths_data, f\"{participant}_space-ACPC_desc-preproc_FLAIR.nii.gz\")\n",
    "wmh_fname   = op.join(paths_data, f\"{participant}_space-ACPC_desc-WMH_desc-clean_dseg.nii.gz\")"
   ]
  },
  {
   "cell_type": "code",
   "execution_count": null,
   "metadata": {},
   "outputs": [],
   "source": [
    "# load brain mask image (referenc for diffusion sampling)\n",
    "mask_image  = ants.image_read(mask_fname)\n",
    "\n",
    "# load anatomical images (to be resampled to diffusion space)\n",
    "flair_image = ants.image_read(flair_fname)\n",
    "wmh_image   = ants.image_read(wmh_fname)\n",
    "\n",
    "# resample anatomical images to diffusion space\n",
    "flair_image = ants.resample_image_to_target(flair_image, mask_image, interp_type = \"nearestNeighbor\")\n",
    "wmh_image   = ants.resample_image_to_target(wmh_image, mask_image, interp_type = \"genericLabel\")\n",
    "\n",
    "# create WMH mask from WMH segmentations\n",
    "wmh_mask = (wmh_image > 0) * 1.0 # WMH values"
   ]
  },
  {
   "cell_type": "code",
   "execution_count": null,
   "metadata": {},
   "outputs": [],
   "source": [
    "z_slice = 49\n",
    "\n",
    "plot_mask  = mask_image[:,:,z_slice].numpy()\n",
    "plot_wmh   = wmh_mask[:,:,z_slice].numpy()\n",
    "plot_flair = flair_image[:,:,z_slice].numpy()\n",
    "\n",
    "plot_flair[plot_mask == 0] = np.nan\n",
    "plot_wmh = find_contours(np.rot90(plot_wmh, -1), 0.5)\n",
    "\n",
    "ny, nx = np.rot90(plot_flair, -1).shape\n",
    "x_min = 14; x_max = 34; x_min = nx - x_min; x_max = nx - x_max \n",
    "y_min = 50; y_max = 70\n",
    "\n",
    "fig, ax = plt.subplots(1, 1, figsize = (8, 8), tight_layout = True)\n",
    "ax.imshow(np.rot90(plot_flair, -1), vmin = -6, vmax = 6, cmap = \"gray\")\n",
    "for contour in plot_wmh: # for each contour\n",
    "  ax.plot(contour[:, 1], contour[:, 0], color = \"yellow\", linewidth = 2)\n",
    "rect = Rectangle((x_min, y_min), x_max - x_min, y_max - y_min, \n",
    "                 edgecolor = \"red\", facecolor = \"none\", linewidth = 2)\n",
    "ax.add_patch(rect)\n",
    "ax.set_xticks([]); ax.set_yticks([])\n",
    "plt.show()\n",
    "\n",
    "fig.savefig(op.join(paths_save, \"figure03_desc-zoom_flair.svg\"))"
   ]
  }
 ],
 "metadata": {
  "kernelspec": {
   "display_name": "act",
   "language": "python",
   "name": "python3"
  },
  "language_info": {
   "codemirror_mode": {
    "name": "ipython",
    "version": 3
   },
   "file_extension": ".py",
   "mimetype": "text/x-python",
   "name": "python",
   "nbconvert_exporter": "python",
   "pygments_lexer": "ipython3",
   "version": "3.10.16"
  }
 },
 "nbformat": 4,
 "nbformat_minor": 2
}
