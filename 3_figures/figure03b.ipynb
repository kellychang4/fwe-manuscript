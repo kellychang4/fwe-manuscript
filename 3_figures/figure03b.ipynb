{
 "cells": [
  {
   "cell_type": "code",
   "execution_count": null,
   "metadata": {},
   "outputs": [],
   "source": [
    "import os\n",
    "import ants\n",
    "import numpy as np\n",
    "import os.path as op\n",
    "import nibabel as nib\n",
    "\n",
    "from fury import actor, window\n",
    "from dipy.data import get_sphere"
   ]
  },
  {
   "cell_type": "code",
   "execution_count": null,
   "metadata": {},
   "outputs": [],
   "source": [
    "participant = \"sub-XXX\" \n",
    "\n",
    "# based on figure03a image slice\n",
    "nx = 20; x_min = 14; x_max = x_min + nx # 20 width\n",
    "ny = 20; y_min = 50; y_max = y_min + ny # 20 width\n",
    "nz = 1; z_slice = 49 \n",
    "\n",
    "paths_data = op.join(\"/path\", \"to\", \"data\")\n",
    "paths_save = op.join(\"paths\", \"to\", \"figure03\")\n",
    "os.makedirs(paths_save, exist_ok = True)"
   ]
  },
  {
   "cell_type": "code",
   "execution_count": null,
   "metadata": {},
   "outputs": [],
   "source": [
    "odf_fnames = {\n",
    "  \"Original\": op.join(paths_data, f\"{participant}_multi-shell_desc-original_model-CSD_odf.nii.gz\"), \n",
    "  \"FWE\":      op.join(paths_data, f\"{participant}_multi-shell_desc-fwe_model-CSD_odf.nii.gz\"), \n",
    "  \"MSMT\":     op.join(paths_data, f\"{participant}_multi-shell_model-MSMT_odf.nii.gz\"),\n",
    "}\n",
    "mask_fname  = op.join(paths_data, f\"{participant}_space-ACPC_desc-brain_mask.nii.gz\")\n",
    "flair_fname = op.join(paths_data, f\"{participant}_space-ACPC_desc-preproc_FLAIR.nii.gz\")\n",
    "dseg_fname  = op.join(paths_data, f\"{participant}_space-ACPC_desc-aseg_dseg.nii.gz\")\n",
    "wmh_fname   = op.join(paths_data, f\"{participant}_space-ACPC_desc-WMH_desc-clean_dseg.nii.gz\")"
   ]
  },
  {
   "cell_type": "code",
   "execution_count": null,
   "metadata": {},
   "outputs": [],
   "source": [
    "# load odfs and convert to numpy\n",
    "odf_images = {k: nib.load(f) for k, f in odf_fnames.items()}\n",
    "\n",
    "# load brain mask image (reference for diffusion sampling)\n",
    "mask_image  = ants.image_read(mask_fname)\n",
    "\n",
    "# load anatomical images (to be resampled to diffusion space)\n",
    "flair_image = ants.image_read(flair_fname)\n",
    "dseg_image  = ants.image_read(dseg_fname)\n",
    "\n",
    "# resample anatomical images to diffusion space\n",
    "flair_image = ants.resample_image_to_target(flair_image, mask_image, interp_type = \"nearestNeighbor\")\n",
    "dseg_image  = ants.resample_image_to_target(dseg_image, mask_image, interp_type = \"nearestNeighbor\")\n",
    "\n",
    "# create WM mask from discrete segmentations\n",
    "dseg_values = dseg_image.numpy() == 0 # intialize with background\n",
    "for i in [3, 4, 24, 42, 43]: dseg_values = np.logical_or(dseg_values, dseg_image.numpy() == i)\n",
    "dseg_image = np.logical_not(dseg_values) * 1.0 # white matter values\n",
    "dseg_zoom  = dseg_image[x_min:x_max, y_min:y_max, z_slice]"
   ]
  },
  {
   "cell_type": "code",
   "execution_count": null,
   "metadata": {},
   "outputs": [],
   "source": [
    "# create flair actor\n",
    "flair_value = flair_image.numpy()[x_min:x_max, y_min:y_max, z_slice]\n",
    "flair_value = flair_value.reshape((nx, ny, nz))\n",
    "\n",
    "flair_actor = actor.slicer(\n",
    "  data = flair_value, \n",
    "  value_range = (-5, 5)\n",
    ")\n",
    "\n",
    "# ODFs with FLAIR background\n",
    "scene = window.Scene()\n",
    "for method, image in odf_images.items():\n",
    "  # create fodf actor\n",
    "  image = image.get_fdata()[x_min:x_max, y_min:y_max, z_slice, ...]\n",
    "  image[dseg_zoom == 0] = 0 # remove not wm voxels\n",
    "  image = image.reshape((nx, ny, nz, image.shape[-1]))\n",
    "\n",
    "  fodf_actor = actor.odf_slicer(\n",
    "    odfs     = image, \n",
    "    sphere   = get_sphere(\"symmetric362\"), \n",
    "    scale    = 0.8, \n",
    "    colormap = None # rgb\n",
    "  )\n",
    "\n",
    "  scene.add(flair_actor) # add flair background\n",
    "  scene.add(fodf_actor)   # add current fodf\n",
    "  scene.background((1, 1, 1))\n",
    "  save_name = f\"figure03_method-{method}_fODFs.png\"\n",
    "  window.record(\n",
    "    scene    = scene, \n",
    "    out_path = op.join(paths_save, save_name), \n",
    "    size     = (2400, 2400)\n",
    "  )\n",
    "  print(f\"Saved: {save_name}\")\n",
    "  scene.clear()"
   ]
  }
 ],
 "metadata": {
  "kernelspec": {
   "display_name": "act",
   "language": "python",
   "name": "python3"
  },
  "language_info": {
   "codemirror_mode": {
    "name": "ipython",
    "version": 3
   },
   "file_extension": ".py",
   "mimetype": "text/x-python",
   "name": "python",
   "nbconvert_exporter": "python",
   "pygments_lexer": "ipython3",
   "version": "3.10.16"
  }
 },
 "nbformat": 4,
 "nbformat_minor": 2
}
