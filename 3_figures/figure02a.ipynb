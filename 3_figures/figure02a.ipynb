{
 "cells": [
  {
   "cell_type": "code",
   "execution_count": null,
   "metadata": {},
   "outputs": [],
   "source": [
    "import os\n",
    "import ants\n",
    "import numpy as np\n",
    "import os.path as op\n",
    "import matplotlib.pyplot as plt\n",
    "from skimage.measure import find_contours"
   ]
  },
  {
   "cell_type": "code",
   "execution_count": null,
   "metadata": {},
   "outputs": [],
   "source": [
    "plt.rcParams.update({\n",
    "  \"text.usetex\": False,\n",
    "  \"font.family\": \"Helvetica\",\n",
    "  \"font.size\": 14\n",
    "})"
   ]
  },
  {
   "cell_type": "code",
   "execution_count": null,
   "metadata": {},
   "outputs": [],
   "source": [
    "paths_data = op.join(\"/path\", \"to\", \"data\")\n",
    "paths_save = op.join(\"paths\", \"to\", \"figure02\")\n",
    "os.makedirs(paths_save, exist_ok = True)"
   ]
  },
  {
   "cell_type": "code",
   "execution_count": null,
   "metadata": {},
   "outputs": [],
   "source": [
    "corr2_images = {\n",
    "  \"Original\": ants.image_read(op.join(paths_data, \"figure02_Multi-Shell_desc-original_corr2.nii.gz\")),\n",
    "  \"FWE\": ants.image_read(op.join(paths_data, \"figure02_Multi-Shell_desc-fwe_corr2.nii.gz\")),\n",
    "  \"MSMT\": ants.image_read(op.join(paths_data, \"figure02_Multi-Shell_desc-MSMT_corr2.nii.gz\"))\n",
    "}\n",
    "\n",
    "flair_image = ants.image_read(op.join(paths_data, \"figure02_space-ACPC_desc-preproc_FLAIR.nii.gz\"))\n",
    "flair_image = ants.resample_image_to_target(flair_image, corr2_images[\"Original\"], interp_type = \"linear\").numpy()\n",
    "\n",
    "wmh_image = ants.image_read(op.join(paths_data, \"figure02_space-ACPC_desc-WMH_desc-clean_dseg.nii.gz\"))\n",
    "wmh_image = ants.resample_image_to_target(wmh_image, corr2_images[\"Original\"], interp_type = \"nearestNeighbor\").numpy()\n",
    "wmh_image = (wmh_image > 0) * 1.0 # binarize wmh, collapses across distinct rois\n",
    "\n",
    "mask_image = ants.image_read(op.join(paths_data, \"figure02_space-ACPC_desc-brain_mask.nii.gz\"))\n",
    "mask_image = ants.resample_image_to_target(mask_image, corr2_images[\"Original\"], interp_type = \"nearestNeighbor\").numpy()\n",
    "\n",
    "dseg_image = ants.image_read(op.join(paths_data, \"figure02_space-ACPC_desc-aseg_dseg.nii.gz\"))\n",
    "dseg_image = ants.resample_image_to_target(dseg_image, corr2_images[\"Original\"], interp_type = \"nearestNeighbor\")\n",
    "\n",
    "dseg_values = dseg_image.numpy() == 0 # intialize with background\n",
    "for i in [3, 4, 24, 42, 43]: dseg_values = np.logical_or(dseg_values, dseg_image.numpy() == i)\n",
    "dseg_image = np.logical_not(dseg_values) * 1.0 # white matter values only\n",
    "\n",
    "diff_image = ( corr2_images[\"FWE\"].numpy() - corr2_images[\"Original\"].numpy()) / (corr2_images[\"Original\"].numpy()) * 100"
   ]
  },
  {
   "cell_type": "code",
   "execution_count": null,
   "metadata": {},
   "outputs": [],
   "source": [
    "z_slice   = (diff_image.shape[2] // 2) + 2\n",
    "cbar_lim  = 200\n",
    "\n",
    "# extract the 2D images for plotting\n",
    "plot_wmh   = wmh_image[..., z_slice].copy()\n",
    "plot_dseg  = dseg_image[..., z_slice].copy()\n",
    "plot_mask  = mask_image[..., z_slice].copy()\n",
    "plot_flair = flair_image[..., z_slice].copy()\n",
    "plot_diff  = diff_image[..., z_slice].copy()\n",
    "\n",
    "plot_flair[plot_mask == 0] = np.nan\n",
    "plot_flair = np.rot90(plot_flair, -1)\n",
    "\n",
    "plot_diff[plot_dseg == 0] = np.nan\n",
    "plot_diff = np.rot90(plot_diff, -1) \n",
    "\n",
    "plot_wmh = np.rot90(plot_wmh, -1)\n",
    "plot_wmh = find_contours(plot_wmh, 0.5)\n",
    "\n",
    "fig, ax = plt.subplots(1, 1, figsize = (8, 8), tight_layout = True)\n",
    "ax.imshow(plot_flair, vmin = -6, vmax = 6, cmap = \"gray\")\n",
    "h = ax.imshow(plot_diff, vmin = -cbar_lim, vmax = cbar_lim, \n",
    "              cmap = \"RdBu_r\", alpha = 1.0)\n",
    "for contour in plot_wmh: # for each wmh contour\n",
    "    ax.plot(contour[:, 1], contour[:, 0], color = \"yellow\", linewidth = 2)\n",
    "ax.set_xticks([]); ax.set_yticks([])\n",
    "cbar = fig.colorbar(h, ax = ax, label = \"fODF $r^{2}$ Percent Difference\\n(FWE - Original)\")\n",
    "cbar_ticks = np.linspace(-cbar_lim, cbar_lim, 7)\n",
    "cbar_ticks_str = [f\"{x:.0f}%\" for x in cbar_ticks]\n",
    "cbar.set_ticks(cbar_ticks); cbar.set_ticklabels(cbar_ticks_str)\n",
    "plt.show()\n",
    "\n",
    "save_name = f\"figure02_FWE-Original_corr2.svg\"\n",
    "fig.savefig(op.join(paths_save, save_name))\n",
    "print(f\"Saved: {save_name}\")"
   ]
  }
 ],
 "metadata": {
  "kernelspec": {
   "display_name": "act",
   "language": "python",
   "name": "python3"
  },
  "language_info": {
   "codemirror_mode": {
    "name": "ipython",
    "version": 3
   },
   "file_extension": ".py",
   "mimetype": "text/x-python",
   "name": "python",
   "nbconvert_exporter": "python",
   "pygments_lexer": "ipython3",
   "version": "3.10.16"
  }
 },
 "nbformat": 4,
 "nbformat_minor": 2
}
